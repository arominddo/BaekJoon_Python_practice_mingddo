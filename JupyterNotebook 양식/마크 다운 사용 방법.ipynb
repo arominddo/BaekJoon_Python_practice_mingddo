{
 "cells": [
  {
   "cell_type": "markdown",
   "metadata": {},
   "source": [
    "### 1. Header 사용"
   ]
  },
  {
   "cell_type": "markdown",
   "metadata": {},
   "source": [
    "#### Header"
   ]
  },
  {
   "cell_type": "markdown",
   "metadata": {},
   "source": [
    "# Header\n",
    "<h1>Header 1 </h1>\n",
    "<h2>Header 1 </h2>\n",
    "<h7>Header 1 </h7>"
   ]
  },
  {
   "cell_type": "markdown",
   "metadata": {},
   "source": [
    "### 2. Quote 인용"
   ]
  },
  {
   "cell_type": "markdown",
   "metadata": {},
   "source": [
    "> 인용구"
   ]
  },
  {
   "cell_type": "markdown",
   "metadata": {},
   "source": [
    "> 인용구"
   ]
  },
  {
   "cell_type": "markdown",
   "metadata": {},
   "source": [
    "### 3. List(목록, level)"
   ]
  },
  {
   "cell_type": "markdown",
   "metadata": {},
   "source": [
    "1. 첫\n",
    "2. 둘\n",
    "3. 셋"
   ]
  },
  {
   "cell_type": "markdown",
   "metadata": {},
   "source": [
    "1. 첫"
   ]
  },
  {
   "cell_type": "markdown",
   "metadata": {},
   "source": [
    "* 별표(*)\n",
    "+ 플러스(+)\n",
    "- 마이너스(-)"
   ]
  },
  {
   "cell_type": "markdown",
   "metadata": {},
   "source": [
    "* 별표(*)\n",
    "+ 플러스(+)\n",
    "- 마이너스(-)"
   ]
  },
  {
   "cell_type": "markdown",
   "metadata": {},
   "source": [
    "- Level1\n",
    "    - level2\n",
    "        - level3"
   ]
  },
  {
   "cell_type": "markdown",
   "metadata": {},
   "source": [
    "- Level1\n",
    "    - level2\n",
    "        - level3"
   ]
  },
  {
   "cell_type": "markdown",
   "metadata": {},
   "source": [
    "### 4. 수평선"
   ]
  },
  {
   "cell_type": "markdown",
   "metadata": {},
   "source": [
    "---"
   ]
  },
  {
   "cell_type": "markdown",
   "metadata": {},
   "source": [
    "---\n",
    "***\n",
    "<hr>"
   ]
  },
  {
   "cell_type": "markdown",
   "metadata": {},
   "source": [
    "### 5. 줄바꿈"
   ]
  },
  {
   "cell_type": "markdown",
   "metadata": {},
   "source": [
    "첫 번째 줄  \n",
    "두 번째 줄<br>\n",
    "세 번째 줄"
   ]
  },
  {
   "cell_type": "markdown",
   "metadata": {},
   "source": [
    "첫 번째 줄(space)(space)  \n",
    "두 번째 줄<br>\n",
    "세 번째 줄"
   ]
  },
  {
   "cell_type": "markdown",
   "metadata": {},
   "source": [
    "### 6. Font"
   ]
  },
  {
   "cell_type": "markdown",
   "metadata": {},
   "source": [
    "글씨 색상  \n",
    "<span style=\"color:색상\">내용</span>  \n",
    "  \n",
    "글씨 크기  \n",
    "<p style=\"font-size:숫자px\">내용</p>  \n",
    "  \n",
    "굵게  \n",
    "**내용**  \n",
    "<p style=\"font-weight:bold\">내용</p>  \n",
    "  \n",
    "기울임  \n",
    "*내용*  \n",
    "<p style=\"font-weight:italic\">내용</p>  \n",
    "  \n",
    "글꼴  \n",
    "<span style=\"font-style: arial\">내용</span>  \n",
    "  \n",
    "EX) 응용  \n",
    "<span style=\"font-style : italic ; font-weight : bold; font-size: 1.5em; line-height: 1.0em; color: Orange; font-family: arial;\">내용</span>"
   ]
  },
  {
   "cell_type": "markdown",
   "metadata": {},
   "source": [
    "### 7. 링크 Link"
   ]
  },
  {
   "cell_type": "markdown",
   "metadata": {},
   "source": [
    "1. https://github.com/arominddo\n",
    "2. [밍또 깃허브](https://github.com/arominddo)\n",
    "3. 밍또 깃허브는 [여기][깃허]이고 [Github][깃깃] 검색을 통해 들어갈 수 있다.\n",
    "\n",
    "[깃허]: https://github.com/arominddo\n",
    "[깃깃]: https://github.com/  \"개발자\""
   ]
  },
  {
   "cell_type": "markdown",
   "metadata": {},
   "source": [
    "1. https://github.com/arominddo\n",
    "2. [밍또 깃허브](https://github.com/arominddo)\n",
    "3. 밍또 깃허브는 [여기][깃허]이고 [Github][깃깃] 검색을 통해 들어갈 수 있다.\n",
    "\n",
    "[깃허]: https://github.com/arominddo\n",
    "[깃깃]: https://github.com/  \"개발자\""
   ]
  },
  {
   "cell_type": "markdown",
   "metadata": {},
   "source": [
    "### 8. Image 이미지"
   ]
  },
  {
   "cell_type": "markdown",
   "metadata": {},
   "source": [
    "![sk_llogo](https://upload.wikimedia.org/wikipedia/commons/b/b4/SK_logo.svg)"
   ]
  },
  {
   "cell_type": "markdown",
   "metadata": {},
   "source": [
    "![이미지 이름](주소)\n",
    "  \n",
    "이미지 크기  \n",
    "<img src=\"이미지 주소\" width =\"? px\" height =\"? px\" alt =\"?\" ></img>\n",
    "  \n",
    "예)  \n",
    "<img src=\"주소\" width=\"450px\" height=\"360px\" title=\"px(픽셀) 크기 설정\" alt=\"sk_logo></img><br/>"
   ]
  },
  {
   "cell_type": "markdown",
   "metadata": {},
   "source": [
    "### 9. Table 테이블"
   ]
  },
  {
   "cell_type": "markdown",
   "metadata": {},
   "source": [
    "|      first header|second hader  |  C|\n",
    "|------------------|--------------|---|\n",
    "|                 1|             2|  3|\n",
    "|                 4|               5  |"
   ]
  },
  {
   "cell_type": "markdown",
   "metadata": {},
   "source": [
    "|      first header|second hader  |  C|\n",
    "|------------------|--------------|---|\n",
    "|                 1|             2|  3|\n",
    "|                 4|               5  |"
   ]
  },
  {
   "cell_type": "markdown",
   "metadata": {},
   "source": [
    "### 10. Code"
   ]
  },
  {
   "cell_type": "markdown",
   "metadata": {},
   "source": [
    "```java\n",
    "public class Practice {\n",
    "    public static void main(String[] args) {\n",
    "        System.out.println(\"Hello\")\n",
    "    }\n",
    "}\n",
    "```"
   ]
  },
  {
   "cell_type": "markdown",
   "metadata": {},
   "source": [
    "```java\n",
    "public class Practice {\n",
    "    public static void main(String[] args) {\n",
    "        System.out.println(\"Hello\")\n",
    "    }\n",
    "}\n",
    "```"
   ]
  },
  {
   "cell_type": "markdown",
   "metadata": {},
   "source": [
    "### 11. Tex 수학식"
   ]
  },
  {
   "cell_type": "markdown",
   "metadata": {},
   "source": [
    "ex1)  \n",
    "$y=3x$  \n",
    "  \n",
    "ex2)  \n",
    "$$\\sqrt[3]{x^3+y^3 \\over 2}$$"
   ]
  },
  {
   "cell_type": "markdown",
   "metadata": {},
   "source": [
    "ex1)  \n",
    "$y=3x$  \n",
    "  \n",
    "ex2)  \n",
    "&&\\sqrt[3]{x^3+y^3 \\over 2}$$"
   ]
  }
 ],
 "metadata": {
  "kernelspec": {
   "display_name": "Python 3.9.12 ('base')",
   "language": "python",
   "name": "python3"
  },
  "language_info": {
   "codemirror_mode": {
    "name": "ipython",
    "version": 3
   },
   "file_extension": ".py",
   "mimetype": "text/x-python",
   "name": "python",
   "nbconvert_exporter": "python",
   "pygments_lexer": "ipython3",
   "version": "3.9.12"
  },
  "orig_nbformat": 4,
  "vscode": {
   "interpreter": {
    "hash": "56408a2f82543ad884ae74521a5fc54f2325c8b045fd0e35486190a44d515172"
   }
  }
 },
 "nbformat": 4,
 "nbformat_minor": 2
}
